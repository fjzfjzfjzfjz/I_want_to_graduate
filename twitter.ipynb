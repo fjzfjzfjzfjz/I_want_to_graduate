{
 "cells": [
  {
   "cell_type": "code",
   "execution_count": null,
   "outputs": [],
   "source": [
    "#合并Twitter的userinfo,并去除无用数据\n",
    "import os\n",
    "import pickle\n",
    "out = open('data/twitter/userinfo_all.txt','w+',encoding='utf-8')\n",
    "for i in os.listdir('data/twitter'):\n",
    "    if not os.path.isdir('data/twitter/'+i) or 'followings' in i:continue\n",
    "    for d in os.listdir('data/twitter/'+i):\n",
    "        dd = f'data/twitter/{i}/{d}/'\n",
    "        with open(f'{dd}/userinfo.txt',encoding='UTF-8-sig') as f:\n",
    "            q=f.readlines()\n",
    "            for j in range(len(q)-1):\n",
    "                try:\n",
    "                    x=q[j+1]\n",
    "                    x=x[:x.find('##')]\n",
    "                    x=int(x)\n",
    "                    print(q[j][:-1],file=out)\n",
    "                except:\n",
    "                    print(q[j][:-1],file=out,end='')\n",
    "            print(q[-1].strip(),file=out)\n",
    "out.close()\n",
    "#排序\n",
    "out = open('data/twitter/userinfo_all.txt','r',encoding='utf-8')\n",
    "d=[i.strip().split('##') for i in out.readlines()]\n",
    "d=sorted(d,key=lambda x:int(x[0]))\n",
    "with open('data/twitter/userinfo_all_final.pickle','wb') as f:\n",
    "    pickle.dump(d,f)\n",
    "out.close()"
   ],
   "metadata": {
    "collapsed": false,
    "pycharm": {
     "name": "#%%\n"
    }
   }
  },
  {
   "cell_type": "code",
   "execution_count": 3,
   "outputs": [],
   "source": [
    "#处理Twitter的关注信息\n",
    "#只保存url否则文件太大\n",
    "import os\n",
    "for i in os.listdir('data/twitter'):\n",
    "    if not os.path.isdir('data/twitter/'+i) or '-' not in i:continue\n",
    "    for d in os.listdir('data/twitter/'+i):\n",
    "        for dd in os.listdir(f'data/twitter/{i}/{d}/followings'):\n",
    "            ddd = f'data/twitter/{i}/{d}/followings/{dd}'\n",
    "            with open(ddd,encoding='UTF-8-sig') as f:\n",
    "                # print(f.name)\n",
    "                out = open(f'data/twitter/followings/{f.name[f.name.rfind(\"/\")+1:]}','w',encoding='utf-8')\n",
    "                q=f.readlines()\n",
    "                #第一行不要了，关注人的描述也不要了\n",
    "                for j in range(1,len(q)-1):\n",
    "                    if q[j+1].count('##') == 2:\n",
    "                        # 正常一行\n",
    "                        print(q[j][:-1],file=out)\n",
    "                    else:\n",
    "                        print(q[j][:-1],file=out,end='')\n",
    "                print(q[-1].strip(),file=out)\n",
    "                out.close()\n",
    "\n",
    "#只保存url否则文件太大\n",
    "#直接获得所有的字典\n",
    "base = 'followings_small'\n",
    "for i in os.listdir('data/twitter/followings'):\n",
    "    with open(f'data/twitter/followings/{i}',encoding='UTF-8') as f:\n",
    "        out = open(f'data/twitter/{base}/{i}','w',encoding='utf-8')\n",
    "        out.writelines([l[l.find('##')+2:l.rfind('##')]+'\\n' if l.find('##') !=-1\n",
    "                        else l for l in f.readlines()])\n",
    "        out.close()"
   ],
   "metadata": {
    "collapsed": false,
    "pycharm": {
     "name": "#%%\n"
    }
   }
  },
  {
   "cell_type": "code",
   "execution_count": 4,
   "outputs": [
    {
     "name": "stdout",
     "output_type": "stream",
     "text": [
      "4\n",
      "id 21642 not found\n",
      "共 488 条无用记录\n"
     ]
    }
   ],
   "source": [
    "#获得URL2id，属性关系和关注关系、字符集合\n",
    "import os\n",
    "import pandas as pd\n",
    "import pickle\n",
    "base = 'data/twitter/followings_small/'\n",
    "col=['用户ID','URL','推特里的userid','昵称','个人describe','开通推特时间','location','tweet总数',\n",
    "                                  'following总数','follower总数','favorites总数']\n",
    "userinfo = pd.DataFrame(pickle.load(open('data/twitter/userinfo_all_final.pickle','rb')),columns=col)\n",
    "print(userinfo['用户ID'][0])\n",
    "URL2id = {userinfo.loc[i]['URL']:userinfo.loc[i]['用户ID'] for i in range(userinfo.shape[0])}\n",
    "id2URL = {userinfo.loc[i]['用户ID']:userinfo.loc[i]['URL'] for i in range(userinfo.shape[0])}\n",
    "pickle.dump(URL2id,open('data/twitter/URL2id.pickle','wb'))\n",
    "pickle.dump(id2URL,open('data/twitter/id2URL.pickle','wb'))\n",
    "#字符集合\n",
    "char_set=set()\n",
    "for i in range(userinfo.shape[0]):\n",
    "    for j in userinfo.loc[i][['昵称','个人describe','开通推特时间','location','tweet总数',\n",
    "                                  'following总数','follower总数','favorites总数']]:\n",
    "        char_set|=set(j)\n",
    "with open('data/twitter/char_set.txt','w',encoding='utf-8') as f:\n",
    "    f.writelines([i+'\\n' for i in char_set])\n",
    "pickle.dump(char_set,open('data/twitter/char_set.pickle','wb'))\n",
    "#关系三元组,都为关注\n",
    "base = 'followings_small'\n",
    "data=[]\n",
    "t=0\n",
    "#17009\n",
    "num={} #关注人数统计\n",
    "for i in os.listdir('data/twitter/followings_small'):\n",
    "    with open(f'data/twitter/followings_small/{i}',encoding='UTF-8') as f:\n",
    "        if i[:i.find('_')] not in id2URL:\n",
    "            print(f'id {i[:i.find(\"_\")]} not found')\n",
    "            continue\n",
    "        t+=1\n",
    "        idx=i[:i.find('_')]\n",
    "        s=0\n",
    "        num[idx]=0\n",
    "        for j in f:\n",
    "            key='https://twitter.com'+j.strip()\n",
    "            if key not in URL2id:\n",
    "                s+=1\n",
    "                continue\n",
    "            num[idx]+=1\n",
    "            data.append([idx,URL2id[key]])\n",
    "print(f'共 {s} 条无用记录')\n",
    "data.sort(key=lambda x:int(x[0]))\n",
    "with open('data/twitter/rel.txt','w',encoding='utf-8') as f:\n",
    "    f.writelines([' '.join(i) for i in data])\n",
    "pickle.dump(data,open('data/twitter/rel.pickle','wb'))\n",
    "\n",
    "#属性三元组（h，r，属性值）\n",
    "attr_rel=[]\n",
    "attrs=['昵称','个人describe','开通推特时间','location','tweet总数',\n",
    "                                  'following总数','follower总数','favorites总数']\n",
    "\n",
    "encoding={i[1]:i[0] for i in enumerate(attrs)}\n",
    "for i in range(userinfo.shape[0]):\n",
    "    idx=userinfo.loc[i]['用户ID']\n",
    "    for j in attrs:\n",
    "        attr_rel.append([idx,encoding[j],userinfo.loc[i][j]])\n",
    "pickle.dump(attr_rel,open('data/twitter/attr_rel.pickle','wb'))"
   ],
   "metadata": {
    "collapsed": false,
    "pycharm": {
     "name": "#%%\n"
    }
   }
  },
  {
   "cell_type": "code",
   "execution_count": 5,
   "outputs": [
    {
     "name": "stdout",
     "output_type": "stream",
     "text": [
      "1\n",
      "1 21\n"
     ]
    },
    {
     "data": {
      "text/plain": "<Figure size 432x288 with 1 Axes>",
      "image/png": "[encoded data removed]"
     },
     "metadata": {},
     "output_type": "display_data"
    }
   ],
   "source": [
    "%matplotlib inline\n",
    "#画图\n",
    "import networkx as nx\n",
    "import matplotlib.pyplot as plt\n",
    "import random\n",
    "g= nx.DiGraph()\n",
    "tt=1\n",
    "with open('data/twitter/rel.txt','r',encoding='utf-8') as f:\n",
    "    cc=f.readlines()\n",
    "    for i in random.choices(cc,k=20):\n",
    "        tt+=1\n",
    "        d=i.strip().split(' ')\n",
    "        g.add_edge(d[0],d[1])\n",
    "print(1)\n",
    "print(g.size(),tt)\n",
    "nx.draw(g,with_labels=True)\n",
    "plt.show()\n"
   ],
   "metadata": {
    "collapsed": false,
    "pycharm": {
     "name": "#%%\n"
    }
   }
  }
 ],
 "metadata": {
  "kernelspec": {
   "display_name": "Python 3",
   "language": "python",
   "name": "python3"
  },
  "language_info": {
   "codemirror_mode": {
    "name": "ipython",
    "version": 2
   },
   "file_extension": ".py",
   "mimetype": "text/x-python",
   "name": "python",
   "nbconvert_exporter": "python",
   "pygments_lexer": "ipython2",
   "version": "2.7.6"
  }
 },
 "nbformat": 4,
 "nbformat_minor": 0
}